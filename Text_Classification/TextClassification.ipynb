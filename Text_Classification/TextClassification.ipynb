{
 "cells": [
  {
   "cell_type": "code",
   "execution_count": 1,
   "id": "1d5ab53f",
   "metadata": {},
   "outputs": [],
   "source": [
    "import tensorflow as tf\n",
    "from tensorflow.keras.preprocessing.text import Tokenizer\n",
    "from tensorflow.keras import layers, models, preprocessing\n",
    "from sklearn.preprocessing import LabelEncoder\n",
    "import pandas as pd\n",
    "import numpy as np\n",
    "import seaborn as sns\n",
    "from sklearn.model_selection import train_test_split\n",
    "import pickle\n",
    "\n",
    "np.random.seed(1234)"
   ]
  },
  {
   "cell_type": "markdown",
   "id": "a7199c0a",
   "metadata": {},
   "source": [
    "# Question 1"
   ]
  },
  {
   "cell_type": "markdown",
   "id": "395b9412",
   "metadata": {},
   "source": [
    "### Reading in file from Elon Musk's Tweets Dataset 2022 from Kaggle.com"
   ]
  },
  {
   "cell_type": "code",
   "execution_count": 2,
   "id": "1271ce66",
   "metadata": {},
   "outputs": [
    {
     "data": {
      "text/plain": [
       "(5172, 3002)"
      ]
     },
     "execution_count": 2,
     "metadata": {},
     "output_type": "execute_result"
    }
   ],
   "source": [
    "df = pd.read_csv('emails.csv')\n",
    "df.shape"
   ]
  },
  {
   "cell_type": "code",
   "execution_count": 3,
   "id": "f4c37fd8",
   "metadata": {},
   "outputs": [
    {
     "data": {
      "text/html": [
       "<div>\n",
       "<style scoped>\n",
       "    .dataframe tbody tr th:only-of-type {\n",
       "        vertical-align: middle;\n",
       "    }\n",
       "\n",
       "    .dataframe tbody tr th {\n",
       "        vertical-align: top;\n",
       "    }\n",
       "\n",
       "    .dataframe thead th {\n",
       "        text-align: right;\n",
       "    }\n",
       "</style>\n",
       "<table border=\"1\" class=\"dataframe\">\n",
       "  <thead>\n",
       "    <tr style=\"text-align: right;\">\n",
       "      <th></th>\n",
       "      <th>Email No.</th>\n",
       "      <th>the</th>\n",
       "      <th>to</th>\n",
       "      <th>ect</th>\n",
       "      <th>and</th>\n",
       "      <th>for</th>\n",
       "      <th>of</th>\n",
       "      <th>a</th>\n",
       "      <th>you</th>\n",
       "      <th>hou</th>\n",
       "      <th>...</th>\n",
       "      <th>connevey</th>\n",
       "      <th>jay</th>\n",
       "      <th>valued</th>\n",
       "      <th>lay</th>\n",
       "      <th>infrastructure</th>\n",
       "      <th>military</th>\n",
       "      <th>allowing</th>\n",
       "      <th>ff</th>\n",
       "      <th>dry</th>\n",
       "      <th>Prediction</th>\n",
       "    </tr>\n",
       "  </thead>\n",
       "  <tbody>\n",
       "    <tr>\n",
       "      <th>0</th>\n",
       "      <td>Email 1</td>\n",
       "      <td>0</td>\n",
       "      <td>0</td>\n",
       "      <td>1</td>\n",
       "      <td>0</td>\n",
       "      <td>0</td>\n",
       "      <td>0</td>\n",
       "      <td>2</td>\n",
       "      <td>0</td>\n",
       "      <td>0</td>\n",
       "      <td>...</td>\n",
       "      <td>0</td>\n",
       "      <td>0</td>\n",
       "      <td>0</td>\n",
       "      <td>0</td>\n",
       "      <td>0</td>\n",
       "      <td>0</td>\n",
       "      <td>0</td>\n",
       "      <td>0</td>\n",
       "      <td>0</td>\n",
       "      <td>0</td>\n",
       "    </tr>\n",
       "    <tr>\n",
       "      <th>1</th>\n",
       "      <td>Email 2</td>\n",
       "      <td>8</td>\n",
       "      <td>13</td>\n",
       "      <td>24</td>\n",
       "      <td>6</td>\n",
       "      <td>6</td>\n",
       "      <td>2</td>\n",
       "      <td>102</td>\n",
       "      <td>1</td>\n",
       "      <td>27</td>\n",
       "      <td>...</td>\n",
       "      <td>0</td>\n",
       "      <td>0</td>\n",
       "      <td>0</td>\n",
       "      <td>0</td>\n",
       "      <td>0</td>\n",
       "      <td>0</td>\n",
       "      <td>0</td>\n",
       "      <td>1</td>\n",
       "      <td>0</td>\n",
       "      <td>0</td>\n",
       "    </tr>\n",
       "    <tr>\n",
       "      <th>2</th>\n",
       "      <td>Email 3</td>\n",
       "      <td>0</td>\n",
       "      <td>0</td>\n",
       "      <td>1</td>\n",
       "      <td>0</td>\n",
       "      <td>0</td>\n",
       "      <td>0</td>\n",
       "      <td>8</td>\n",
       "      <td>0</td>\n",
       "      <td>0</td>\n",
       "      <td>...</td>\n",
       "      <td>0</td>\n",
       "      <td>0</td>\n",
       "      <td>0</td>\n",
       "      <td>0</td>\n",
       "      <td>0</td>\n",
       "      <td>0</td>\n",
       "      <td>0</td>\n",
       "      <td>0</td>\n",
       "      <td>0</td>\n",
       "      <td>0</td>\n",
       "    </tr>\n",
       "    <tr>\n",
       "      <th>3</th>\n",
       "      <td>Email 4</td>\n",
       "      <td>0</td>\n",
       "      <td>5</td>\n",
       "      <td>22</td>\n",
       "      <td>0</td>\n",
       "      <td>5</td>\n",
       "      <td>1</td>\n",
       "      <td>51</td>\n",
       "      <td>2</td>\n",
       "      <td>10</td>\n",
       "      <td>...</td>\n",
       "      <td>0</td>\n",
       "      <td>0</td>\n",
       "      <td>0</td>\n",
       "      <td>0</td>\n",
       "      <td>0</td>\n",
       "      <td>0</td>\n",
       "      <td>0</td>\n",
       "      <td>0</td>\n",
       "      <td>0</td>\n",
       "      <td>0</td>\n",
       "    </tr>\n",
       "    <tr>\n",
       "      <th>4</th>\n",
       "      <td>Email 5</td>\n",
       "      <td>7</td>\n",
       "      <td>6</td>\n",
       "      <td>17</td>\n",
       "      <td>1</td>\n",
       "      <td>5</td>\n",
       "      <td>2</td>\n",
       "      <td>57</td>\n",
       "      <td>0</td>\n",
       "      <td>9</td>\n",
       "      <td>...</td>\n",
       "      <td>0</td>\n",
       "      <td>0</td>\n",
       "      <td>0</td>\n",
       "      <td>0</td>\n",
       "      <td>0</td>\n",
       "      <td>0</td>\n",
       "      <td>0</td>\n",
       "      <td>1</td>\n",
       "      <td>0</td>\n",
       "      <td>0</td>\n",
       "    </tr>\n",
       "  </tbody>\n",
       "</table>\n",
       "<p>5 rows × 3002 columns</p>\n",
       "</div>"
      ],
      "text/plain": [
       "  Email No.  the  to  ect  and  for  of    a  you  hou  ...  connevey  jay  \\\n",
       "0   Email 1    0   0    1    0    0   0    2    0    0  ...         0    0   \n",
       "1   Email 2    8  13   24    6    6   2  102    1   27  ...         0    0   \n",
       "2   Email 3    0   0    1    0    0   0    8    0    0  ...         0    0   \n",
       "3   Email 4    0   5   22    0    5   1   51    2   10  ...         0    0   \n",
       "4   Email 5    7   6   17    1    5   2   57    0    9  ...         0    0   \n",
       "\n",
       "   valued  lay  infrastructure  military  allowing  ff  dry  Prediction  \n",
       "0       0    0               0         0         0   0    0           0  \n",
       "1       0    0               0         0         0   1    0           0  \n",
       "2       0    0               0         0         0   0    0           0  \n",
       "3       0    0               0         0         0   0    0           0  \n",
       "4       0    0               0         0         0   1    0           0  \n",
       "\n",
       "[5 rows x 3002 columns]"
      ]
     },
     "execution_count": 3,
     "metadata": {},
     "output_type": "execute_result"
    }
   ],
   "source": [
    "df.head()"
   ]
  },
  {
   "cell_type": "markdown",
   "id": "925c7390",
   "metadata": {},
   "source": [
    "### Divide into Train/Test"
   ]
  },
  {
   "cell_type": "code",
   "execution_count": 4,
   "id": "1c3710e2",
   "metadata": {},
   "outputs": [
    {
     "name": "stdout",
     "output_type": "stream",
     "text": [
      "(5172, 3000) (5172,)\n",
      "(4137, 3000) (1035, 3000) (4137,) (1035,)\n"
     ]
    }
   ],
   "source": [
    "data = df.values\n",
    "X, y = data[:, 1:3001], data[:, -1]\n",
    "X_train, X_test, y_train, y_test = train_test_split(X,y,test_size = 0.2, random_state=1)\n",
    "\n",
    "print(X.shape, y.shape)\n",
    "print(X_train.shape, X_test.shape, y_train.shape, y_test.shape)\n",
    "X_train = np.asarray(X_train).astype('float32')\n",
    "X_test = np.asarray(X_test).astype('float32')\n",
    "y_train = np.asarray(y_train).astype('float32')\n",
    "y_test = np.asarray(y_test).astype('float32')"
   ]
  },
  {
   "cell_type": "markdown",
   "id": "60c3d0fe",
   "metadata": {},
   "source": [
    "# Question 2 \n",
    "###  Create a sequential model and evaluate on the test data"
   ]
  },
  {
   "cell_type": "code",
   "execution_count": 5,
   "id": "bfabcd79",
   "metadata": {},
   "outputs": [],
   "source": [
    "from keras.models import Sequential\n",
    "model = Sequential()\n",
    "model.add(layers.Dense(16, activation='relu', input_shape=(3000,)))\n",
    "model.add(layers.Dense(16, activation='relu'))\n",
    "model.add(layers.Dense(1, activation='sigmoid'))\n",
    "\n",
    "model.compile(optimizer='rmsprop',\n",
    "              loss='binary_crossentropy',\n",
    "              metrics=['accuracy'])"
   ]
  },
  {
   "cell_type": "code",
   "execution_count": 6,
   "id": "e088dc0b",
   "metadata": {},
   "outputs": [],
   "source": [
    "X_val = X_train[:3000]\n",
    "partial_X_train = X_train[3000:]\n",
    "\n",
    "y_val = y_train[:3000]\n",
    "partial_y_train = y_train[3000:]"
   ]
  },
  {
   "cell_type": "code",
   "execution_count": 7,
   "id": "702373ea",
   "metadata": {},
   "outputs": [
    {
     "name": "stdout",
     "output_type": "stream",
     "text": [
      "Epoch 1/20\n",
      "3/3 [==============================] - 1s 93ms/step - loss: 1.6857 - accuracy: 0.3096 - val_loss: 0.7017 - val_accuracy: 0.6220\n",
      "Epoch 2/20\n",
      "3/3 [==============================] - 0s 26ms/step - loss: 0.7132 - accuracy: 0.6297 - val_loss: 0.7041 - val_accuracy: 0.7260\n",
      "Epoch 3/20\n",
      "3/3 [==============================] - 0s 24ms/step - loss: 0.6711 - accuracy: 0.7247 - val_loss: 0.5921 - val_accuracy: 0.7720\n",
      "Epoch 4/20\n",
      "3/3 [==============================] - 0s 27ms/step - loss: 0.5825 - accuracy: 0.7995 - val_loss: 0.6026 - val_accuracy: 0.7720\n",
      "Epoch 5/20\n",
      "3/3 [==============================] - 0s 25ms/step - loss: 0.6078 - accuracy: 0.7757 - val_loss: 0.5739 - val_accuracy: 0.7863\n",
      "Epoch 6/20\n",
      "3/3 [==============================] - 0s 25ms/step - loss: 0.5737 - accuracy: 0.7995 - val_loss: 0.5225 - val_accuracy: 0.8490\n",
      "Epoch 7/20\n",
      "3/3 [==============================] - 0s 25ms/step - loss: 0.5055 - accuracy: 0.8584 - val_loss: 0.4722 - val_accuracy: 0.8753\n",
      "Epoch 8/20\n",
      "3/3 [==============================] - 0s 24ms/step - loss: 0.4618 - accuracy: 0.8883 - val_loss: 0.4404 - val_accuracy: 0.8880\n",
      "Epoch 9/20\n",
      "3/3 [==============================] - 0s 26ms/step - loss: 0.4379 - accuracy: 0.8997 - val_loss: 0.5369 - val_accuracy: 0.7957\n",
      "Epoch 10/20\n",
      "3/3 [==============================] - 0s 25ms/step - loss: 0.4803 - accuracy: 0.8470 - val_loss: 0.4018 - val_accuracy: 0.9047\n",
      "Epoch 11/20\n",
      "3/3 [==============================] - 0s 25ms/step - loss: 0.3953 - accuracy: 0.9120 - val_loss: 0.3818 - val_accuracy: 0.9077\n",
      "Epoch 12/20\n",
      "3/3 [==============================] - 0s 25ms/step - loss: 0.3721 - accuracy: 0.9270 - val_loss: 0.3614 - val_accuracy: 0.9037\n",
      "Epoch 13/20\n",
      "3/3 [==============================] - 0s 25ms/step - loss: 0.3505 - accuracy: 0.9323 - val_loss: 0.3460 - val_accuracy: 0.9150\n",
      "Epoch 14/20\n",
      "3/3 [==============================] - 0s 25ms/step - loss: 0.3367 - accuracy: 0.9305 - val_loss: 0.3269 - val_accuracy: 0.9160\n",
      "Epoch 15/20\n",
      "3/3 [==============================] - 0s 24ms/step - loss: 0.3118 - accuracy: 0.9384 - val_loss: 0.3433 - val_accuracy: 0.8787\n",
      "Epoch 16/20\n",
      "3/3 [==============================] - 0s 24ms/step - loss: 0.4183 - accuracy: 0.9050 - val_loss: 0.3136 - val_accuracy: 0.9303\n",
      "Epoch 17/20\n",
      "3/3 [==============================] - 0s 25ms/step - loss: 0.2898 - accuracy: 0.9455 - val_loss: 0.3069 - val_accuracy: 0.9333\n",
      "Epoch 18/20\n",
      "3/3 [==============================] - 0s 23ms/step - loss: 0.2844 - accuracy: 0.9402 - val_loss: 0.2816 - val_accuracy: 0.9290\n",
      "Epoch 19/20\n",
      "3/3 [==============================] - 0s 23ms/step - loss: 0.2625 - accuracy: 0.9604 - val_loss: 0.2818 - val_accuracy: 0.9407\n",
      "Epoch 20/20\n",
      "3/3 [==============================] - 0s 23ms/step - loss: 0.2785 - accuracy: 0.9402 - val_loss: 0.3180 - val_accuracy: 0.8823\n"
     ]
    }
   ],
   "source": [
    "history = model.fit(partial_X_train,\n",
    "                    partial_y_train,\n",
    "                    epochs=20,\n",
    "                    batch_size=512,\n",
    "                    validation_data=(X_val, y_val))\n"
   ]
  },
  {
   "cell_type": "code",
   "execution_count": 8,
   "id": "b2dd772d",
   "metadata": {},
   "outputs": [
    {
     "name": "stdout",
     "output_type": "stream",
     "text": [
      "33/33 [==============================] - 0s 1ms/step\n",
      "              precision    recall  f1-score   support\n",
      "\n",
      "         0.0       0.85      1.00      0.92       719\n",
      "         1.0       0.99      0.60      0.75       316\n",
      "\n",
      "    accuracy                           0.88      1035\n",
      "   macro avg       0.92      0.80      0.83      1035\n",
      "weighted avg       0.89      0.88      0.86      1035\n",
      "\n"
     ]
    }
   ],
   "source": [
    "from sklearn.metrics import classification_report\n",
    "\n",
    "pred = model.predict(X_test)\n",
    "pred = [1.0 if p>= 0.5 else 0.0 for p in pred]\n",
    "print(classification_report(y_test, pred))"
   ]
  },
  {
   "cell_type": "code",
   "execution_count": 9,
   "id": "0ee6786b",
   "metadata": {},
   "outputs": [
    {
     "name": "stdout",
     "output_type": "stream",
     "text": [
      "9/9 [==============================] - 0s 2ms/step - loss: 0.3538 - accuracy: 0.8754\n"
     ]
    },
    {
     "data": {
      "text/plain": [
       "[0.3537578880786896, 0.8753623366355896]"
      ]
     },
     "execution_count": 9,
     "metadata": {},
     "output_type": "execute_result"
    }
   ],
   "source": [
    "losses_and_metrics = model.evaluate(X_test, y_test, batch_size=128)\n",
    "losses_and_metrics"
   ]
  },
  {
   "cell_type": "code",
   "execution_count": 10,
   "id": "872a4167",
   "metadata": {},
   "outputs": [
    {
     "name": "stdout",
     "output_type": "stream",
     "text": [
      "9/9 [==============================] - 0s 2ms/step\n"
     ]
    },
    {
     "data": {
      "text/plain": [
       "array([[0.01126047],\n",
       "       [0.7040208 ],\n",
       "       [0.03501591],\n",
       "       [0.11170562],\n",
       "       [0.99775326]], dtype=float32)"
      ]
     },
     "execution_count": 10,
     "metadata": {},
     "output_type": "execute_result"
    }
   ],
   "source": [
    "classes = model.predict(X_test, batch_size=128)\n",
    "classes[:5]"
   ]
  },
  {
   "cell_type": "code",
   "execution_count": 11,
   "id": "f3233780",
   "metadata": {},
   "outputs": [
    {
     "data": {
      "image/png": "[encoded data removed]",
      "text/plain": [
       "<Figure size 432x288 with 1 Axes>"
      ]
     },
     "metadata": {
      "needs_background": "light"
     },
     "output_type": "display_data"
    }
   ],
   "source": [
    "import matplotlib.pyplot as plt\n",
    "\n",
    "loss = history.history['loss']\n",
    "val_loss = history.history['val_loss']\n",
    "epochs = range(1, len(loss)+1)\n",
    "\n",
    "plt.plot(epochs, loss, 'bo', label='Training loss')\n",
    "plt.plot(epochs, val_loss, 'b', label='Validation loss')\n",
    "plt.title('Training and validation loss')\n",
    "plt.xlabel('Epochs')\n",
    "plt.ylabel('Loss')\n",
    "plt.legend()\n",
    "\n",
    "plt.show()\n",
    "\n"
   ]
  },
  {
   "cell_type": "code",
   "execution_count": 12,
   "id": "e59c9295",
   "metadata": {},
   "outputs": [
    {
     "data": {
      "image/png": "[encoded data removed]",
      "text/plain": [
       "<Figure size 432x288 with 1 Axes>"
      ]
     },
     "metadata": {
      "needs_background": "light"
     },
     "output_type": "display_data"
    }
   ],
   "source": [
    "plt.clf()   # clear\n",
    "\n",
    "acc = history.history['accuracy']\n",
    "val_acc = history.history['val_accuracy']\n",
    "\n",
    "plt.plot(epochs, acc, 'bo', label='Training acc')\n",
    "plt.plot(epochs, val_acc, 'b', label='Validation acc')\n",
    "plt.title('Training and validation accuracy')\n",
    "plt.xlabel('Epochs')\n",
    "plt.ylabel('Accuracy')\n",
    "plt.legend()\n",
    "\n",
    "plt.show()"
   ]
  },
  {
   "cell_type": "code",
   "execution_count": 13,
   "id": "d3325428",
   "metadata": {},
   "outputs": [],
   "source": [
    "from tensorflow.keras.callbacks import EarlyStopping\n",
    "\n",
    "early_stopping = EarlyStopping(\n",
    "    min_delta=0.001, # min change in metrics\n",
    "    patience=4,     # min epochs \n",
    "    restore_best_weights=True,\n",
    ")\n"
   ]
  },
  {
   "cell_type": "code",
   "execution_count": 14,
   "id": "86dcd5cb",
   "metadata": {},
   "outputs": [
    {
     "name": "stdout",
     "output_type": "stream",
     "text": [
      "1/9 [==>...........................] - ETA: 0s - loss: 0.3126 - accuracy: 0.8965WARNING:tensorflow:Early stopping conditioned on metric `val_loss` which is not available. Available metrics are: loss,accuracy\n",
      "9/9 [==============================] - 0s 4ms/step - loss: 0.2656 - accuracy: 0.9355\n",
      "33/33 [==============================] - 0s 1ms/step - loss: 0.7090 - accuracy: 0.7643\n"
     ]
    }
   ],
   "source": [
    "# fit the model again with early stopping\n",
    "\n",
    "model.fit(X_train, y_train, callbacks=[early_stopping], batch_size=512)\n",
    "results = model.evaluate(X_test, y_test)"
   ]
  },
  {
   "cell_type": "code",
   "execution_count": 15,
   "id": "f68019b2",
   "metadata": {},
   "outputs": [
    {
     "data": {
      "text/plain": [
       "[0.7089790105819702, 0.7642512321472168]"
      ]
     },
     "execution_count": 15,
     "metadata": {},
     "output_type": "execute_result"
    }
   ],
   "source": [
    "results"
   ]
  },
  {
   "cell_type": "code",
   "execution_count": 16,
   "id": "86f77f13",
   "metadata": {},
   "outputs": [
    {
     "name": "stdout",
     "output_type": "stream",
     "text": [
      "33/33 [==============================] - 0s 1ms/step\n",
      "              precision    recall  f1-score   support\n",
      "\n",
      "         0.0       0.75      1.00      0.85       719\n",
      "         1.0       1.00      0.23      0.37       316\n",
      "\n",
      "    accuracy                           0.76      1035\n",
      "   macro avg       0.87      0.61      0.61      1035\n",
      "weighted avg       0.82      0.76      0.71      1035\n",
      "\n"
     ]
    }
   ],
   "source": [
    "pred = model.predict(X_test)\n",
    "pred = [1.0 if p>= 0.5 else 0.0 for p in pred]\n",
    "print(classification_report(y_test, pred))"
   ]
  },
  {
   "cell_type": "markdown",
   "id": "1f344625",
   "metadata": {},
   "source": [
    "# Question 3\n",
    "###  Try a different architecture like RNN, CNN, etc and evaluate on the test data"
   ]
  },
  {
   "cell_type": "code",
   "execution_count": 17,
   "id": "099c44e1",
   "metadata": {},
   "outputs": [
    {
     "name": "stdout",
     "output_type": "stream",
     "text": [
      "Model: \"sequential_1\"\n",
      "_________________________________________________________________\n",
      " Layer (type)                Output Shape              Param #   \n",
      "=================================================================\n",
      " embedding (Embedding)       (None, None, 32)          320000    \n",
      "                                                                 \n",
      " simple_rnn (SimpleRNN)      (None, 32)                2080      \n",
      "                                                                 \n",
      " dense_3 (Dense)             (None, 1)                 33        \n",
      "                                                                 \n",
      "=================================================================\n",
      "Total params: 322,113\n",
      "Trainable params: 322,113\n",
      "Non-trainable params: 0\n",
      "_________________________________________________________________\n"
     ]
    }
   ],
   "source": [
    "#RNN\n",
    "max_features = 10000\n",
    "maxlen = 500\n",
    "batch_size = 32\n",
    "\n",
    "model = models.Sequential()\n",
    "model.add(layers.Embedding(max_features, 32))\n",
    "model.add(layers.SimpleRNN(32))\n",
    "model.add(layers.Dense(1, activation='sigmoid'))\n",
    "\n",
    "model.summary()"
   ]
  },
  {
   "cell_type": "code",
   "execution_count": 18,
   "id": "2197a1f0",
   "metadata": {},
   "outputs": [],
   "source": [
    "model.compile(optimizer='rmsprop',\n",
    "              loss='binary_crossentropy',\n",
    "              metrics=['accuracy'])"
   ]
  },
  {
   "cell_type": "code",
   "execution_count": 19,
   "id": "89805a87",
   "metadata": {},
   "outputs": [
    {
     "name": "stdout",
     "output_type": "stream",
     "text": [
      "Epoch 1/10\n",
      "26/26 [==============================] - 27s 1s/step - loss: 0.6008 - accuracy: 0.7123 - val_loss: 0.5873 - val_accuracy: 0.7186\n",
      "Epoch 2/10\n",
      "26/26 [==============================] - 27s 1s/step - loss: 0.5900 - accuracy: 0.7126 - val_loss: 0.5742 - val_accuracy: 0.7186\n",
      "Epoch 3/10\n",
      "26/26 [==============================] - 27s 1s/step - loss: 0.5830 - accuracy: 0.7153 - val_loss: 0.5654 - val_accuracy: 0.7162\n",
      "Epoch 4/10\n",
      "26/26 [==============================] - 26s 1s/step - loss: 0.5844 - accuracy: 0.7147 - val_loss: 0.5679 - val_accuracy: 0.7150\n",
      "Epoch 5/10\n",
      "26/26 [==============================] - 26s 1s/step - loss: 0.5768 - accuracy: 0.7202 - val_loss: 0.5656 - val_accuracy: 0.7150\n",
      "Epoch 6/10\n",
      "26/26 [==============================] - 26s 1s/step - loss: 0.5780 - accuracy: 0.7153 - val_loss: 0.5694 - val_accuracy: 0.7138\n",
      "Epoch 7/10\n",
      "26/26 [==============================] - 26s 1s/step - loss: 0.5831 - accuracy: 0.7126 - val_loss: 0.5725 - val_accuracy: 0.7186\n",
      "Epoch 8/10\n",
      "26/26 [==============================] - 26s 1s/step - loss: 0.5761 - accuracy: 0.7186 - val_loss: 0.5590 - val_accuracy: 0.7162\n",
      "Epoch 9/10\n",
      "26/26 [==============================] - 26s 1s/step - loss: 0.5797 - accuracy: 0.7183 - val_loss: 0.5663 - val_accuracy: 0.7138\n",
      "Epoch 10/10\n",
      "26/26 [==============================] - 26s 1s/step - loss: 0.5732 - accuracy: 0.7220 - val_loss: 0.5672 - val_accuracy: 0.7138\n"
     ]
    }
   ],
   "source": [
    "history = model.fit(X_train,\n",
    "                    y_train,\n",
    "                    epochs=10,\n",
    "                    batch_size=128,\n",
    "                    validation_split=0.2)"
   ]
  },
  {
   "cell_type": "code",
   "execution_count": 21,
   "id": "640d5bc1",
   "metadata": {},
   "outputs": [
    {
     "name": "stdout",
     "output_type": "stream",
     "text": [
      "33/33 [==============================] - 3s 78ms/step\n",
      "              precision    recall  f1-score   support\n",
      "\n",
      "         0.0       0.70      0.99      0.82       719\n",
      "         1.0       0.68      0.05      0.09       316\n",
      "\n",
      "    accuracy                           0.70      1035\n",
      "   macro avg       0.69      0.52      0.46      1035\n",
      "weighted avg       0.70      0.70      0.60      1035\n",
      "\n"
     ]
    }
   ],
   "source": [
    "pred = model.predict(X_test)\n",
    "pred = [1.0 if p>= 0.5 else 0.0 for p in pred]\n",
    "print(classification_report(y_test, pred))"
   ]
  },
  {
   "cell_type": "code",
   "execution_count": 22,
   "id": "22bc4c83",
   "metadata": {},
   "outputs": [
    {
     "name": "stdout",
     "output_type": "stream",
     "text": [
      "Model: \"sequential_2\"\n",
      "_________________________________________________________________\n",
      " Layer (type)                Output Shape              Param #   \n",
      "=================================================================\n",
      " embedding_1 (Embedding)     (None, None, 32)          320000    \n",
      "                                                                 \n",
      " lstm (LSTM)                 (None, 32)                8320      \n",
      "                                                                 \n",
      " dense_4 (Dense)             (None, 1)                 33        \n",
      "                                                                 \n",
      "=================================================================\n",
      "Total params: 328,353\n",
      "Trainable params: 328,353\n",
      "Non-trainable params: 0\n",
      "_________________________________________________________________\n"
     ]
    }
   ],
   "source": [
    "#LSTM\n",
    "model = models.Sequential()\n",
    "model.add(layers.Embedding(max_features, 32))\n",
    "model.add(layers.LSTM(32))\n",
    "model.add(layers.Dense(1, activation='sigmoid'))\n",
    "\n",
    "model.summary()"
   ]
  },
  {
   "cell_type": "code",
   "execution_count": 23,
   "id": "1a897982",
   "metadata": {},
   "outputs": [],
   "source": [
    "model.compile(optimizer='rmsprop',\n",
    "              loss='binary_crossentropy',\n",
    "              metrics=['accuracy'])"
   ]
  },
  {
   "cell_type": "code",
   "execution_count": 24,
   "id": "ffa71fc3",
   "metadata": {},
   "outputs": [
    {
     "name": "stdout",
     "output_type": "stream",
     "text": [
      "Epoch 1/10\n",
      "26/26 [==============================] - 65s 2s/step - loss: 0.6266 - accuracy: 0.6951 - val_loss: 0.5935 - val_accuracy: 0.7186\n",
      "Epoch 2/10\n",
      "26/26 [==============================] - 64s 2s/step - loss: 0.5967 - accuracy: 0.7126 - val_loss: 0.5919 - val_accuracy: 0.7186\n",
      "Epoch 3/10\n",
      "26/26 [==============================] - 63s 2s/step - loss: 0.5961 - accuracy: 0.7126 - val_loss: 0.5880 - val_accuracy: 0.7186\n",
      "Epoch 4/10\n",
      "26/26 [==============================] - 63s 2s/step - loss: 0.5933 - accuracy: 0.7126 - val_loss: 0.5880 - val_accuracy: 0.7186\n",
      "Epoch 5/10\n",
      "26/26 [==============================] - 63s 2s/step - loss: 0.5905 - accuracy: 0.7126 - val_loss: 0.5822 - val_accuracy: 0.7186\n",
      "Epoch 6/10\n",
      "26/26 [==============================] - 64s 2s/step - loss: 0.5889 - accuracy: 0.7123 - val_loss: 0.5779 - val_accuracy: 0.7186\n",
      "Epoch 7/10\n",
      "26/26 [==============================] - 64s 2s/step - loss: 0.5864 - accuracy: 0.7126 - val_loss: 0.5756 - val_accuracy: 0.7198\n",
      "Epoch 8/10\n",
      "26/26 [==============================] - 63s 2s/step - loss: 0.5841 - accuracy: 0.7123 - val_loss: 0.5734 - val_accuracy: 0.7198\n",
      "Epoch 9/10\n",
      "26/26 [==============================] - 63s 2s/step - loss: 0.5824 - accuracy: 0.7135 - val_loss: 0.5721 - val_accuracy: 0.7186\n",
      "Epoch 10/10\n",
      "26/26 [==============================] - 63s 2s/step - loss: 0.5826 - accuracy: 0.7129 - val_loss: 0.5700 - val_accuracy: 0.7186\n"
     ]
    }
   ],
   "source": [
    "history = model.fit(X_train,\n",
    "                    y_train,\n",
    "                    epochs=10,\n",
    "                    batch_size=128,\n",
    "                    validation_split=0.2)"
   ]
  },
  {
   "cell_type": "code",
   "execution_count": 25,
   "id": "f41d00e4",
   "metadata": {},
   "outputs": [
    {
     "name": "stdout",
     "output_type": "stream",
     "text": [
      "33/33 [==============================] - 7s 195ms/step\n",
      "              precision    recall  f1-score   support\n",
      "\n",
      "         0.0       0.70      0.99      0.82       719\n",
      "         1.0       0.42      0.02      0.03       316\n",
      "\n",
      "    accuracy                           0.69      1035\n",
      "   macro avg       0.56      0.50      0.42      1035\n",
      "weighted avg       0.61      0.69      0.58      1035\n",
      "\n"
     ]
    }
   ],
   "source": [
    "pred = model.predict(X_test)\n",
    "pred = [1.0 if p>= 0.5 else 0.0 for p in pred]\n",
    "print(classification_report(y_test, pred))"
   ]
  },
  {
   "cell_type": "code",
   "execution_count": 26,
   "id": "976bd164",
   "metadata": {},
   "outputs": [
    {
     "name": "stdout",
     "output_type": "stream",
     "text": [
      "Epoch 1/10\n",
      "26/26 [==============================] - 78s 3s/step - loss: 0.6206 - accuracy: 0.6948 - val_loss: 0.5913 - val_accuracy: 0.7186\n",
      "Epoch 2/10\n",
      "26/26 [==============================] - 70s 3s/step - loss: 0.5940 - accuracy: 0.7126 - val_loss: 0.5838 - val_accuracy: 0.7186\n",
      "Epoch 3/10\n",
      "26/26 [==============================] - 69s 3s/step - loss: 0.5908 - accuracy: 0.7126 - val_loss: 0.5808 - val_accuracy: 0.7186\n",
      "Epoch 4/10\n",
      "26/26 [==============================] - 69s 3s/step - loss: 0.5893 - accuracy: 0.7123 - val_loss: 0.5776 - val_accuracy: 0.7186\n",
      "Epoch 5/10\n",
      "26/26 [==============================] - 69s 3s/step - loss: 0.5869 - accuracy: 0.7123 - val_loss: 0.5763 - val_accuracy: 0.7162\n",
      "Epoch 6/10\n",
      "26/26 [==============================] - 67s 3s/step - loss: 0.5856 - accuracy: 0.7120 - val_loss: 0.5730 - val_accuracy: 0.7174\n",
      "Epoch 7/10\n",
      "26/26 [==============================] - 67s 3s/step - loss: 0.5833 - accuracy: 0.7120 - val_loss: 0.5730 - val_accuracy: 0.7174\n",
      "Epoch 8/10\n",
      "26/26 [==============================] - 66s 3s/step - loss: 0.5824 - accuracy: 0.7117 - val_loss: 0.5698 - val_accuracy: 0.7186\n",
      "Epoch 9/10\n",
      "26/26 [==============================] - 67s 3s/step - loss: 0.5814 - accuracy: 0.7120 - val_loss: 0.5689 - val_accuracy: 0.7186\n",
      "Epoch 10/10\n",
      "26/26 [==============================] - 67s 3s/step - loss: 0.5819 - accuracy: 0.7123 - val_loss: 0.5691 - val_accuracy: 0.7186\n"
     ]
    }
   ],
   "source": [
    "#GRU\n",
    "model = models.Sequential()\n",
    "model.add(layers.Embedding(max_features, 32))\n",
    "model.add(layers.GRU(32))\n",
    "model.add(layers.Dense(1, activation='sigmoid'))\n",
    "\n",
    "model.compile(optimizer='rmsprop',\n",
    "              loss='binary_crossentropy',\n",
    "              metrics=['accuracy'])\n",
    "\n",
    "history = model.fit(X_train,\n",
    "                    y_train,\n",
    "                    epochs=10,\n",
    "                    batch_size=128,\n",
    "                    validation_split=0.2)"
   ]
  },
  {
   "cell_type": "code",
   "execution_count": 28,
   "id": "95dcb65f",
   "metadata": {},
   "outputs": [
    {
     "name": "stdout",
     "output_type": "stream",
     "text": [
      "33/33 [==============================] - 6s 162ms/step\n",
      "              precision    recall  f1-score   support\n",
      "\n",
      "         0.0       0.69      0.99      0.82       719\n",
      "         1.0       0.27      0.01      0.02       316\n",
      "\n",
      "    accuracy                           0.69      1035\n",
      "   macro avg       0.48      0.50      0.42      1035\n",
      "weighted avg       0.57      0.69      0.57      1035\n",
      "\n"
     ]
    }
   ],
   "source": [
    "pred = model.predict(X_test)\n",
    "pred = [1.0 if p>= 0.5 else 0.0 for p in pred]\n",
    "print(classification_report(y_test, pred))"
   ]
  },
  {
   "cell_type": "code",
   "execution_count": 29,
   "id": "e4da1379",
   "metadata": {},
   "outputs": [],
   "source": [
    "#CNN\n",
    "max_features = 3000\n",
    "maxlen = 3000\n",
    "batch_size = 32\n",
    "\n",
    "model = models.Sequential()\n",
    "model.add(layers.Embedding(max_features, 128, input_length=maxlen)) \n",
    "model.add(layers.Conv1D(32, 7, activation='relu')) \n",
    "model.add(layers.MaxPooling1D(5)) \n",
    "model.add(layers.Conv1D(32, 7, activation='relu')) \n",
    "model.add(layers.GlobalMaxPooling1D())\n",
    "model.add(layers.Dense(1))"
   ]
  },
  {
   "cell_type": "code",
   "execution_count": 30,
   "id": "dca17d85",
   "metadata": {},
   "outputs": [
    {
     "name": "stdout",
     "output_type": "stream",
     "text": [
      "Model: \"sequential_4\"\n",
      "_________________________________________________________________\n",
      " Layer (type)                Output Shape              Param #   \n",
      "=================================================================\n",
      " embedding_3 (Embedding)     (None, 3000, 128)         384000    \n",
      "                                                                 \n",
      " conv1d (Conv1D)             (None, 2994, 32)          28704     \n",
      "                                                                 \n",
      " max_pooling1d (MaxPooling1D  (None, 598, 32)          0         \n",
      " )                                                               \n",
      "                                                                 \n",
      " conv1d_1 (Conv1D)           (None, 592, 32)           7200      \n",
      "                                                                 \n",
      " global_max_pooling1d (Globa  (None, 32)               0         \n",
      " lMaxPooling1D)                                                  \n",
      "                                                                 \n",
      " dense_6 (Dense)             (None, 1)                 33        \n",
      "                                                                 \n",
      "=================================================================\n",
      "Total params: 419,937\n",
      "Trainable params: 419,937\n",
      "Non-trainable params: 0\n",
      "_________________________________________________________________\n"
     ]
    }
   ],
   "source": [
    "model.summary()"
   ]
  },
  {
   "cell_type": "code",
   "execution_count": 31,
   "id": "c93f2732",
   "metadata": {},
   "outputs": [
    {
     "name": "stdout",
     "output_type": "stream",
     "text": [
      "Epoch 1/10\n",
      "26/26 [==============================] - 23s 856ms/step - loss: 0.6220 - accuracy: 0.7126 - val_loss: 0.5919 - val_accuracy: 0.7186\n",
      "Epoch 2/10\n",
      "26/26 [==============================] - 22s 843ms/step - loss: 0.5944 - accuracy: 0.7126 - val_loss: 0.5882 - val_accuracy: 0.7186\n",
      "Epoch 3/10\n",
      "26/26 [==============================] - 22s 843ms/step - loss: 0.5877 - accuracy: 0.7126 - val_loss: 0.5854 - val_accuracy: 0.7186\n",
      "Epoch 4/10\n",
      "26/26 [==============================] - 22s 850ms/step - loss: 0.5820 - accuracy: 0.7126 - val_loss: 0.5821 - val_accuracy: 0.7186\n",
      "Epoch 5/10\n",
      "26/26 [==============================] - 22s 845ms/step - loss: 0.5769 - accuracy: 0.7126 - val_loss: 0.5763 - val_accuracy: 0.7186\n",
      "Epoch 6/10\n",
      "26/26 [==============================] - 23s 868ms/step - loss: 0.5726 - accuracy: 0.7126 - val_loss: 0.5734 - val_accuracy: 0.7186\n",
      "Epoch 7/10\n",
      "26/26 [==============================] - 24s 923ms/step - loss: 0.5659 - accuracy: 0.7126 - val_loss: 0.5687 - val_accuracy: 0.7186\n",
      "Epoch 8/10\n",
      "26/26 [==============================] - 23s 893ms/step - loss: 0.5608 - accuracy: 0.7126 - val_loss: 0.5651 - val_accuracy: 0.7186\n",
      "Epoch 9/10\n",
      "26/26 [==============================] - 27s 1s/step - loss: 0.5551 - accuracy: 0.7126 - val_loss: 0.5602 - val_accuracy: 0.7186\n",
      "Epoch 10/10\n",
      "26/26 [==============================] - 24s 930ms/step - loss: 0.5488 - accuracy: 0.7126 - val_loss: 0.5563 - val_accuracy: 0.7186\n"
     ]
    }
   ],
   "source": [
    "model.compile(optimizer=tf.keras.optimizers.RMSprop(learning_rate=1e-4),  # set learning rate\n",
    "              loss='binary_crossentropy',\n",
    "              metrics=['accuracy'])\n",
    "\n",
    "history = model.fit(X_train,\n",
    "                    y_train,\n",
    "                    epochs=10,\n",
    "                    batch_size=128,\n",
    "                    validation_split=0.2)"
   ]
  },
  {
   "cell_type": "code",
   "execution_count": 32,
   "id": "95ebbdf0",
   "metadata": {},
   "outputs": [
    {
     "name": "stdout",
     "output_type": "stream",
     "text": [
      "33/33 [==============================] - 1s 36ms/step\n",
      "              precision    recall  f1-score   support\n",
      "\n",
      "         0.0       0.69      1.00      0.82       719\n",
      "         1.0       0.00      0.00      0.00       316\n",
      "\n",
      "    accuracy                           0.69      1035\n",
      "   macro avg       0.35      0.50      0.41      1035\n",
      "weighted avg       0.48      0.69      0.57      1035\n",
      "\n"
     ]
    },
    {
     "name": "stderr",
     "output_type": "stream",
     "text": [
      "C:\\Users\\aurel\\anaconda3\\lib\\site-packages\\sklearn\\metrics\\_classification.py:1248: UndefinedMetricWarning: Precision and F-score are ill-defined and being set to 0.0 in labels with no predicted samples. Use `zero_division` parameter to control this behavior.\n",
      "  _warn_prf(average, modifier, msg_start, len(result))\n",
      "C:\\Users\\aurel\\anaconda3\\lib\\site-packages\\sklearn\\metrics\\_classification.py:1248: UndefinedMetricWarning: Precision and F-score are ill-defined and being set to 0.0 in labels with no predicted samples. Use `zero_division` parameter to control this behavior.\n",
      "  _warn_prf(average, modifier, msg_start, len(result))\n",
      "C:\\Users\\aurel\\anaconda3\\lib\\site-packages\\sklearn\\metrics\\_classification.py:1248: UndefinedMetricWarning: Precision and F-score are ill-defined and being set to 0.0 in labels with no predicted samples. Use `zero_division` parameter to control this behavior.\n",
      "  _warn_prf(average, modifier, msg_start, len(result))\n"
     ]
    }
   ],
   "source": [
    "from sklearn.metrics import classification_report\n",
    "pred = model.predict(X_test)\n",
    "pred = [1.0 if p>= 0.5 else 0.0 for p in pred]\n",
    "print(classification_report(y_test, pred))"
   ]
  },
  {
   "cell_type": "markdown",
   "id": "a567e81c",
   "metadata": {},
   "source": [
    "# Question 4\n",
    "###   Try different embedding approaches and evaluate on the test data"
   ]
  },
  {
   "cell_type": "code",
   "execution_count": 33,
   "id": "e5139fa3",
   "metadata": {},
   "outputs": [
    {
     "name": "stdout",
     "output_type": "stream",
     "text": [
      "Model: \"sequential_5\"\n",
      "_________________________________________________________________\n",
      " Layer (type)                Output Shape              Param #   \n",
      "=================================================================\n",
      " embedding_4 (Embedding)     (None, 3000, 8)           24000     \n",
      "                                                                 \n",
      " flatten (Flatten)           (None, 24000)             0         \n",
      "                                                                 \n",
      " dense_7 (Dense)             (None, 16)                384016    \n",
      "                                                                 \n",
      " dense_8 (Dense)             (None, 1)                 17        \n",
      "                                                                 \n",
      "=================================================================\n",
      "Total params: 408,033\n",
      "Trainable params: 408,033\n",
      "Non-trainable params: 0\n",
      "_________________________________________________________________\n",
      "Epoch 1/10\n",
      "104/104 [==============================] - 1s 9ms/step - loss: 0.4887 - acc: 0.7610 - val_loss: 0.3561 - val_acc: 0.7717\n",
      "Epoch 2/10\n",
      "104/104 [==============================] - 1s 8ms/step - loss: 0.1920 - acc: 0.9326 - val_loss: 0.1379 - val_acc: 0.9601\n",
      "Epoch 3/10\n",
      "104/104 [==============================] - 1s 8ms/step - loss: 0.0902 - acc: 0.9710 - val_loss: 0.1141 - val_acc: 0.9601\n",
      "Epoch 4/10\n",
      "104/104 [==============================] - 1s 8ms/step - loss: 0.0535 - acc: 0.9837 - val_loss: 0.1000 - val_acc: 0.9614\n",
      "Epoch 5/10\n",
      "104/104 [==============================] - 1s 8ms/step - loss: 0.0358 - acc: 0.9894 - val_loss: 0.0830 - val_acc: 0.9722\n",
      "Epoch 6/10\n",
      "104/104 [==============================] - 1s 8ms/step - loss: 0.0228 - acc: 0.9934 - val_loss: 0.0851 - val_acc: 0.9722\n",
      "Epoch 7/10\n",
      "104/104 [==============================] - 1s 8ms/step - loss: 0.0155 - acc: 0.9952 - val_loss: 0.1177 - val_acc: 0.9650\n",
      "Epoch 8/10\n",
      "104/104 [==============================] - 1s 8ms/step - loss: 0.0101 - acc: 0.9982 - val_loss: 0.1070 - val_acc: 0.9734\n",
      "Epoch 9/10\n",
      "104/104 [==============================] - 1s 8ms/step - loss: 0.0074 - acc: 0.9985 - val_loss: 0.1152 - val_acc: 0.9710\n",
      "Epoch 10/10\n",
      "104/104 [==============================] - 1s 8ms/step - loss: 0.0053 - acc: 0.9988 - val_loss: 0.1305 - val_acc: 0.9710\n"
     ]
    }
   ],
   "source": [
    "max_features = 3000\n",
    "maxlen = 3000\n",
    "model = models.Sequential()\n",
    "model.add(layers.Embedding(max_features, 8, input_length=maxlen))\n",
    "model.add(layers.Flatten())\n",
    "model.add(layers.Dense(16, activation='relu'))\n",
    "model.add(layers.Dense(1, activation='sigmoid'))\n",
    "\n",
    "model.compile(optimizer='rmsprop', loss='binary_crossentropy', metrics=['acc'])\n",
    "model.summary()\n",
    "\n",
    "history = model.fit(X_train, y_train, epochs=10, batch_size=32, validation_split=0.2)"
   ]
  },
  {
   "cell_type": "code",
   "execution_count": 34,
   "id": "87a20735",
   "metadata": {},
   "outputs": [
    {
     "name": "stdout",
     "output_type": "stream",
     "text": [
      "33/33 [==============================] - 0s 3ms/step\n",
      "              precision    recall  f1-score   support\n",
      "\n",
      "         0.0       0.98      0.98      0.98       719\n",
      "         1.0       0.96      0.96      0.96       316\n",
      "\n",
      "    accuracy                           0.97      1035\n",
      "   macro avg       0.97      0.97      0.97      1035\n",
      "weighted avg       0.97      0.97      0.97      1035\n",
      "\n"
     ]
    }
   ],
   "source": [
    "pred = model.predict(X_test)\n",
    "pred = [1.0 if p>= 0.5 else 0.0 for p in pred]\n",
    "print(classification_report(y_test, pred))"
   ]
  },
  {
   "cell_type": "markdown",
   "id": "080bd91f",
   "metadata": {},
   "source": [
    "# Question 5\n",
    "###   Write up your analysis of the performance of various approaches"
   ]
  },
  {
   "cell_type": "markdown",
   "id": "a96ab39f",
   "metadata": {},
   "source": [
    "From a quick glance the accuracies of the models are listed from lowest to highest: (CNN, GRU, and LSTM) all had .69, RNN with .70, 1st sequential with early stopping at .76, then the first seq without early stopping at .88, and finally embedding method at .97.\n",
    "\n",
    "Overall the embedding method had the best scores. Followed by 1st seq, 1st seq w/early stopping, RNN, LSTM, GRU, and lastly CNN."
   ]
  }
 ],
 "metadata": {
  "kernelspec": {
   "display_name": "Python 3 (ipykernel)",
   "language": "python",
   "name": "python3"
  },
  "language_info": {
   "codemirror_mode": {
    "name": "ipython",
    "version": 3
   },
   "file_extension": ".py",
   "mimetype": "text/x-python",
   "name": "python",
   "nbconvert_exporter": "python",
   "pygments_lexer": "ipython3",
   "version": "3.9.7"
  }
 },
 "nbformat": 4,
 "nbformat_minor": 5
}
